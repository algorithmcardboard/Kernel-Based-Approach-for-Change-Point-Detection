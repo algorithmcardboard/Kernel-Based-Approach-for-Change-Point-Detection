{
 "cells": [
  {
   "cell_type": "code",
   "execution_count": 102,
   "metadata": {
    "collapsed": false
   },
   "outputs": [],
   "source": [
    "%matplotlib inline\n",
    "\n",
    "import numpy as np\n",
    "import matplotlib.pyplot as plt"
   ]
  },
  {
   "cell_type": "markdown",
   "metadata": {
    "collapsed": true
   },
   "source": [
    "# Change in mean ($\\theta_{1} $ known)\n",
    "Here, except for the change in time $ t_{0} $ all other parameters are assumed to be known."
   ]
  },
  {
   "cell_type": "code",
   "execution_count": 114,
   "metadata": {
    "collapsed": false
   },
   "outputs": [
    {
     "name": "stdout",
     "output_type": "stream",
     "text": [
      "(600,)\n"
     ]
    }
   ],
   "source": [
    "n = 3\n",
    "num_samples = 100\n",
    "MU_0 = 0\n",
    "MU_1 = 1\n",
    "SIGMA = 1"
   ]
  },
  {
   "cell_type": "code",
   "execution_count": 116,
   "metadata": {
    "collapsed": false
   },
   "outputs": [],
   "source": [
    "def generate_time_series(MU_0, MU_1, SIGMA, N, NUM_SAMPLES):\n",
    "    TS = np.concatenate(( np.random.normal(MU_0,SIGMA,(1, NUM_SAMPLES * N)), \n",
    "                     np.random.normal(MU_1,SIGMA,(1, NUM_SAMPLES * N))),axis=1 )\n",
    "    return TS[0]\n",
    "\n",
    "def get_alarm_time(MU_0, MU_1, SIGMA, TS, N, NUM_SAMPLES, h, kappa):\n",
    "    v = MU_1 - MU_0\n",
    "    b = (MU_1 - MU_0)/SIGMA\n",
    "    \n",
    "    decision_function = np.sum((TS.reshape(2*NUM_SAMPLES, N) - MU_0 - (v/2)), axis=1)\n",
    "    \n",
    "    decisions = decision_function > h\n",
    "    \n",
    "    t0 = np.argmax(decisions == True)\n",
    "    \n",
    "    threshold = MU_0 + (kappa * SIGMA/np.sqrt(N))\n",
    "    y_bar = (1/N)*np.sum(TS.reshape(2*NUM_SAMPLES, N), axis=1)\n",
    "    alarm_time = np.argmax(y_bar >= threshold)\n",
    "    \n",
    "    return decision_function, t0, alarm_time\n",
    "\n",
    "\n",
    "def grid_search(MU_0, MU_1, SIGMA, TS, N, NUM_SAMPLES, h_values, kappa_values):\n",
    "    t0_vals = []\n",
    "    alarm_vals = []\n",
    "    for k in kappa_values:\n",
    "        for h in h_values:\n",
    "            print (\"iteration for k = {0} and h = {1}\".format(k, h))\n",
    "            d, time, alarm_time = get_alarm_time(MU_0, MU_1, SIGMA, TS, N, NUM_SAMPLES, h, k)\n",
    "            t0_vals.append(time)\n",
    "            alarm_vals.append(alarm_time)\n",
    "            \n",
    "    return t0_vals, alarm_vals"
   ]
  },
  {
   "cell_type": "markdown",
   "metadata": {},
   "source": [
    "### Alarm is set when $ \\frac{1}{N} \\sum_{i=N(K-1)+1}^{NK} y_{i} \\ge \\mu_{0} + \\kappa \\frac{\\sigma}{\\sqrt{N}} $ "
   ]
  },
  {
   "cell_type": "code",
   "execution_count": 129,
   "metadata": {
    "collapsed": false
   },
   "outputs": [
    {
     "name": "stdout",
     "output_type": "stream",
     "text": [
      "iteration for k = 0.5 and h = 1.5\n",
      "iteration for k = 0.5 and h = 1.75\n",
      "iteration for k = 0.5 and h = 2.0\n",
      "iteration for k = 0.5 and h = 2.25\n",
      "iteration for k = 0.5 and h = 2.5\n",
      "iteration for k = 0.5 and h = 2.75\n",
      "iteration for k = 0.5 and h = 3.0\n",
      "iteration for k = 0.5 and h = 3.25\n",
      "iteration for k = 0.5 and h = 3.5\n",
      "iteration for k = 0.5 and h = 3.75\n",
      "iteration for k = 0.5 and h = 4.0\n",
      "iteration for k = 0.5 and h = 4.25\n",
      "iteration for k = 0.5 and h = 4.5\n",
      "iteration for k = 0.5 and h = 4.75\n",
      "iteration for k = 0.5 and h = 5.0\n",
      "iteration for k = 0.5 and h = 5.25\n",
      "iteration for k = 0.75 and h = 1.5\n",
      "iteration for k = 0.75 and h = 1.75\n",
      "iteration for k = 0.75 and h = 2.0\n",
      "iteration for k = 0.75 and h = 2.25\n",
      "iteration for k = 0.75 and h = 2.5\n",
      "iteration for k = 0.75 and h = 2.75\n",
      "iteration for k = 0.75 and h = 3.0\n",
      "iteration for k = 0.75 and h = 3.25\n",
      "iteration for k = 0.75 and h = 3.5\n",
      "iteration for k = 0.75 and h = 3.75\n",
      "iteration for k = 0.75 and h = 4.0\n",
      "iteration for k = 0.75 and h = 4.25\n",
      "iteration for k = 0.75 and h = 4.5\n",
      "iteration for k = 0.75 and h = 4.75\n",
      "iteration for k = 0.75 and h = 5.0\n",
      "iteration for k = 0.75 and h = 5.25\n",
      "iteration for k = 1.0 and h = 1.5\n",
      "iteration for k = 1.0 and h = 1.75\n",
      "iteration for k = 1.0 and h = 2.0\n",
      "iteration for k = 1.0 and h = 2.25\n",
      "iteration for k = 1.0 and h = 2.5\n",
      "iteration for k = 1.0 and h = 2.75\n",
      "iteration for k = 1.0 and h = 3.0\n",
      "iteration for k = 1.0 and h = 3.25\n",
      "iteration for k = 1.0 and h = 3.5\n",
      "iteration for k = 1.0 and h = 3.75\n",
      "iteration for k = 1.0 and h = 4.0\n",
      "iteration for k = 1.0 and h = 4.25\n",
      "iteration for k = 1.0 and h = 4.5\n",
      "iteration for k = 1.0 and h = 4.75\n",
      "iteration for k = 1.0 and h = 5.0\n",
      "iteration for k = 1.0 and h = 5.25\n",
      "iteration for k = 1.25 and h = 1.5\n",
      "iteration for k = 1.25 and h = 1.75\n",
      "iteration for k = 1.25 and h = 2.0\n",
      "iteration for k = 1.25 and h = 2.25\n",
      "iteration for k = 1.25 and h = 2.5\n",
      "iteration for k = 1.25 and h = 2.75\n",
      "iteration for k = 1.25 and h = 3.0\n",
      "iteration for k = 1.25 and h = 3.25\n",
      "iteration for k = 1.25 and h = 3.5\n",
      "iteration for k = 1.25 and h = 3.75\n",
      "iteration for k = 1.25 and h = 4.0\n",
      "iteration for k = 1.25 and h = 4.25\n",
      "iteration for k = 1.25 and h = 4.5\n",
      "iteration for k = 1.25 and h = 4.75\n",
      "iteration for k = 1.25 and h = 5.0\n",
      "iteration for k = 1.25 and h = 5.25\n",
      "iteration for k = 1.5 and h = 1.5\n",
      "iteration for k = 1.5 and h = 1.75\n",
      "iteration for k = 1.5 and h = 2.0\n",
      "iteration for k = 1.5 and h = 2.25\n",
      "iteration for k = 1.5 and h = 2.5\n",
      "iteration for k = 1.5 and h = 2.75\n",
      "iteration for k = 1.5 and h = 3.0\n",
      "iteration for k = 1.5 and h = 3.25\n",
      "iteration for k = 1.5 and h = 3.5\n",
      "iteration for k = 1.5 and h = 3.75\n",
      "iteration for k = 1.5 and h = 4.0\n",
      "iteration for k = 1.5 and h = 4.25\n",
      "iteration for k = 1.5 and h = 4.5\n",
      "iteration for k = 1.5 and h = 4.75\n",
      "iteration for k = 1.5 and h = 5.0\n",
      "iteration for k = 1.5 and h = 5.25\n",
      "iteration for k = 1.75 and h = 1.5\n",
      "iteration for k = 1.75 and h = 1.75\n",
      "iteration for k = 1.75 and h = 2.0\n",
      "iteration for k = 1.75 and h = 2.25\n",
      "iteration for k = 1.75 and h = 2.5\n",
      "iteration for k = 1.75 and h = 2.75\n",
      "iteration for k = 1.75 and h = 3.0\n",
      "iteration for k = 1.75 and h = 3.25\n",
      "iteration for k = 1.75 and h = 3.5\n",
      "iteration for k = 1.75 and h = 3.75\n",
      "iteration for k = 1.75 and h = 4.0\n",
      "iteration for k = 1.75 and h = 4.25\n",
      "iteration for k = 1.75 and h = 4.5\n",
      "iteration for k = 1.75 and h = 4.75\n",
      "iteration for k = 1.75 and h = 5.0\n",
      "iteration for k = 1.75 and h = 5.25\n",
      "iteration for k = 2.0 and h = 1.5\n",
      "iteration for k = 2.0 and h = 1.75\n",
      "iteration for k = 2.0 and h = 2.0\n",
      "iteration for k = 2.0 and h = 2.25\n",
      "iteration for k = 2.0 and h = 2.5\n",
      "iteration for k = 2.0 and h = 2.75\n",
      "iteration for k = 2.0 and h = 3.0\n",
      "iteration for k = 2.0 and h = 3.25\n",
      "iteration for k = 2.0 and h = 3.5\n",
      "iteration for k = 2.0 and h = 3.75\n",
      "iteration for k = 2.0 and h = 4.0\n",
      "iteration for k = 2.0 and h = 4.25\n",
      "iteration for k = 2.0 and h = 4.5\n",
      "iteration for k = 2.0 and h = 4.75\n",
      "iteration for k = 2.0 and h = 5.0\n",
      "iteration for k = 2.0 and h = 5.25\n",
      "iteration for k = 2.25 and h = 1.5\n",
      "iteration for k = 2.25 and h = 1.75\n",
      "iteration for k = 2.25 and h = 2.0\n",
      "iteration for k = 2.25 and h = 2.25\n",
      "iteration for k = 2.25 and h = 2.5\n",
      "iteration for k = 2.25 and h = 2.75\n",
      "iteration for k = 2.25 and h = 3.0\n",
      "iteration for k = 2.25 and h = 3.25\n",
      "iteration for k = 2.25 and h = 3.5\n",
      "iteration for k = 2.25 and h = 3.75\n",
      "iteration for k = 2.25 and h = 4.0\n",
      "iteration for k = 2.25 and h = 4.25\n",
      "iteration for k = 2.25 and h = 4.5\n",
      "iteration for k = 2.25 and h = 4.75\n",
      "iteration for k = 2.25 and h = 5.0\n",
      "iteration for k = 2.25 and h = 5.25\n",
      "iteration for k = 2.5 and h = 1.5\n",
      "iteration for k = 2.5 and h = 1.75\n",
      "iteration for k = 2.5 and h = 2.0\n",
      "iteration for k = 2.5 and h = 2.25\n",
      "iteration for k = 2.5 and h = 2.5\n",
      "iteration for k = 2.5 and h = 2.75\n",
      "iteration for k = 2.5 and h = 3.0\n",
      "iteration for k = 2.5 and h = 3.25\n",
      "iteration for k = 2.5 and h = 3.5\n",
      "iteration for k = 2.5 and h = 3.75\n",
      "iteration for k = 2.5 and h = 4.0\n",
      "iteration for k = 2.5 and h = 4.25\n",
      "iteration for k = 2.5 and h = 4.5\n",
      "iteration for k = 2.5 and h = 4.75\n",
      "iteration for k = 2.5 and h = 5.0\n",
      "iteration for k = 2.5 and h = 5.25\n",
      "iteration for k = 2.75 and h = 1.5\n",
      "iteration for k = 2.75 and h = 1.75\n",
      "iteration for k = 2.75 and h = 2.0\n",
      "iteration for k = 2.75 and h = 2.25\n",
      "iteration for k = 2.75 and h = 2.5\n",
      "iteration for k = 2.75 and h = 2.75\n",
      "iteration for k = 2.75 and h = 3.0\n",
      "iteration for k = 2.75 and h = 3.25\n",
      "iteration for k = 2.75 and h = 3.5\n",
      "iteration for k = 2.75 and h = 3.75\n",
      "iteration for k = 2.75 and h = 4.0\n",
      "iteration for k = 2.75 and h = 4.25\n",
      "iteration for k = 2.75 and h = 4.5\n",
      "iteration for k = 2.75 and h = 4.75\n",
      "iteration for k = 2.75 and h = 5.0\n",
      "iteration for k = 2.75 and h = 5.25\n",
      "iteration for k = 3.0 and h = 1.5\n",
      "iteration for k = 3.0 and h = 1.75\n",
      "iteration for k = 3.0 and h = 2.0\n",
      "iteration for k = 3.0 and h = 2.25\n",
      "iteration for k = 3.0 and h = 2.5\n",
      "iteration for k = 3.0 and h = 2.75\n",
      "iteration for k = 3.0 and h = 3.0\n",
      "iteration for k = 3.0 and h = 3.25\n",
      "iteration for k = 3.0 and h = 3.5\n",
      "iteration for k = 3.0 and h = 3.75\n",
      "iteration for k = 3.0 and h = 4.0\n",
      "iteration for k = 3.0 and h = 4.25\n",
      "iteration for k = 3.0 and h = 4.5\n",
      "iteration for k = 3.0 and h = 4.75\n",
      "iteration for k = 3.0 and h = 5.0\n",
      "iteration for k = 3.0 and h = 5.25\n",
      "iteration for k = 3.25 and h = 1.5\n",
      "iteration for k = 3.25 and h = 1.75\n",
      "iteration for k = 3.25 and h = 2.0\n",
      "iteration for k = 3.25 and h = 2.25\n",
      "iteration for k = 3.25 and h = 2.5\n",
      "iteration for k = 3.25 and h = 2.75\n",
      "iteration for k = 3.25 and h = 3.0\n",
      "iteration for k = 3.25 and h = 3.25\n",
      "iteration for k = 3.25 and h = 3.5\n",
      "iteration for k = 3.25 and h = 3.75\n",
      "iteration for k = 3.25 and h = 4.0\n",
      "iteration for k = 3.25 and h = 4.25\n",
      "iteration for k = 3.25 and h = 4.5\n",
      "iteration for k = 3.25 and h = 4.75\n",
      "iteration for k = 3.25 and h = 5.0\n",
      "iteration for k = 3.25 and h = 5.25\n",
      "iteration for k = 3.5 and h = 1.5\n",
      "iteration for k = 3.5 and h = 1.75\n",
      "iteration for k = 3.5 and h = 2.0\n",
      "iteration for k = 3.5 and h = 2.25\n",
      "iteration for k = 3.5 and h = 2.5\n",
      "iteration for k = 3.5 and h = 2.75\n",
      "iteration for k = 3.5 and h = 3.0\n",
      "iteration for k = 3.5 and h = 3.25\n",
      "iteration for k = 3.5 and h = 3.5\n",
      "iteration for k = 3.5 and h = 3.75\n",
      "iteration for k = 3.5 and h = 4.0\n",
      "iteration for k = 3.5 and h = 4.25\n",
      "iteration for k = 3.5 and h = 4.5\n",
      "iteration for k = 3.5 and h = 4.75\n",
      "iteration for k = 3.5 and h = 5.0\n",
      "iteration for k = 3.5 and h = 5.25\n",
      "iteration for k = 3.75 and h = 1.5\n",
      "iteration for k = 3.75 and h = 1.75\n",
      "iteration for k = 3.75 and h = 2.0\n",
      "iteration for k = 3.75 and h = 2.25\n",
      "iteration for k = 3.75 and h = 2.5\n",
      "iteration for k = 3.75 and h = 2.75\n",
      "iteration for k = 3.75 and h = 3.0\n",
      "iteration for k = 3.75 and h = 3.25\n",
      "iteration for k = 3.75 and h = 3.5\n",
      "iteration for k = 3.75 and h = 3.75\n",
      "iteration for k = 3.75 and h = 4.0\n",
      "iteration for k = 3.75 and h = 4.25\n",
      "iteration for k = 3.75 and h = 4.5\n",
      "iteration for k = 3.75 and h = 4.75\n",
      "iteration for k = 3.75 and h = 5.0\n",
      "iteration for k = 3.75 and h = 5.25\n"
     ]
    }
   ],
   "source": [
    "TS = generate_time_series(0, 1, 1, n, num_samples)\n",
    "print(TS.shape)\n",
    "\n",
    "h_values = np.arange(1.5, 5.5, 0.25)\n",
    "kappa_values = np.arange(0.5, 4, 0.25)\n",
    "t0_vals, alarm_vals = grid_search(MU_0, MU_1, SIGMA, TS, n, num_samples, h_values, kappa_values)"
   ]
  },
  {
   "cell_type": "code",
   "execution_count": 130,
   "metadata": {
    "collapsed": false
   },
   "outputs": [
    {
     "data": {
      "text/plain": [
       "[<matplotlib.lines.Line2D at 0x7f3df82adb70>]"
      ]
     },
     "execution_count": 130,
     "metadata": {},
     "output_type": "execute_result"
    },
    {
     "data": {
      "image/png": "[encoded data removed]",
      "text/plain": [
       "<matplotlib.figure.Figure at 0x7f3df82ebc88>"
      ]
     },
     "metadata": {},
     "output_type": "display_data"
    }
   ],
   "source": [
    "plt.plot(TS)"
   ]
  },
  {
   "cell_type": "code",
   "execution_count": 131,
   "metadata": {
    "collapsed": false
   },
   "outputs": [
    {
     "data": {
      "text/plain": [
       "[<matplotlib.lines.Line2D at 0x7f3df83516a0>]"
      ]
     },
     "execution_count": 131,
     "metadata": {},
     "output_type": "execute_result"
    },
    {
     "data": {
      "image/png": "[encoded data removed]",
      "text/plain": [
       "<matplotlib.figure.Figure at 0x7f3df8548048>"
      ]
     },
     "metadata": {},
     "output_type": "display_data"
    }
   ],
   "source": [
    "plt.plot(decision_fn)"
   ]
  },
  {
   "cell_type": "code",
   "execution_count": 132,
   "metadata": {
    "collapsed": false
   },
   "outputs": [
    {
     "name": "stdout",
     "output_type": "stream",
     "text": [
      "224 224\n"
     ]
    }
   ],
   "source": [
    "print(len(t0_vals), len(alarm_vals))"
   ]
  },
  {
   "cell_type": "code",
   "execution_count": 133,
   "metadata": {
    "collapsed": false
   },
   "outputs": [
    {
     "name": "stdout",
     "output_type": "stream",
     "text": [
      "[12, 12, 12, 12, 12, 12, 12, 12, 12, 12, 12, 12, 12, 102, 102, 102, 12, 12, 12, 12, 12, 12, 12, 12, 12, 12, 12, 12, 12, 102, 102, 102, 12, 12, 12, 12, 12, 12, 12, 12, 12, 12, 12, 12, 12, 102, 102, 102, 12, 12, 12, 12, 12, 12, 12, 12, 12, 12, 12, 12, 12, 102, 102, 102, 12, 12, 12, 12, 12, 12, 12, 12, 12, 12, 12, 12, 12, 102, 102, 102, 12, 12, 12, 12, 12, 12, 12, 12, 12, 12, 12, 12, 12, 102, 102, 102, 12, 12, 12, 12, 12, 12, 12, 12, 12, 12, 12, 12, 12, 102, 102, 102, 12, 12, 12, 12, 12, 12, 12, 12, 12, 12, 12, 12, 12, 102, 102, 102, 12, 12, 12, 12, 12, 12, 12, 12, 12, 12, 12, 12, 12, 102, 102, 102, 12, 12, 12, 12, 12, 12, 12, 12, 12, 12, 12, 12, 12, 102, 102, 102, 12, 12, 12, 12, 12, 12, 12, 12, 12, 12, 12, 12, 12, 102, 102, 102, 12, 12, 12, 12, 12, 12, 12, 12, 12, 12, 12, 12, 12, 102, 102, 102, 12, 12, 12, 12, 12, 12, 12, 12, 12, 12, 12, 12, 12, 102, 102, 102, 12, 12, 12, 12, 12, 12, 12, 12, 12, 12, 12, 12, 12, 102, 102, 102]\n"
     ]
    },
    {
     "data": {
      "image/png": "[encoded data removed]",
      "text/plain": [
       "<matplotlib.figure.Figure at 0x7f3df826ec50>"
      ]
     },
     "metadata": {},
     "output_type": "display_data"
    }
   ],
   "source": [
    "plt.plot(t0_vals)\n",
    "print(t0_vals)"
   ]
  },
  {
   "cell_type": "code",
   "execution_count": 126,
   "metadata": {
    "collapsed": false
   },
   "outputs": [
    {
     "data": {
      "text/plain": [
       "[<matplotlib.lines.Line2D at 0x7f3df82fd9b0>]"
      ]
     },
     "execution_count": 126,
     "metadata": {},
     "output_type": "execute_result"
    },
    {
     "data": {
      "image/png": "[encoded data removed]",
      "text/plain": [
       "<matplotlib.figure.Figure at 0x7f3df84c50f0>"
      ]
     },
     "metadata": {},
     "output_type": "display_data"
    }
   ],
   "source": [
    "plt.plot(alarm_vals)"
   ]
  },
  {
   "cell_type": "code",
   "execution_count": 82,
   "metadata": {
    "collapsed": false
   },
   "outputs": [
    {
     "data": {
      "text/plain": [
       "5.5213511210644679"
      ]
     },
     "execution_count": 82,
     "metadata": {},
     "output_type": "execute_result"
    }
   ],
   "source": [
    "decision_fn[100:199].max()"
   ]
  },
  {
   "cell_type": "code",
   "execution_count": null,
   "metadata": {
    "collapsed": true
   },
   "outputs": [],
   "source": []
  }
 ],
 "metadata": {
  "kernelspec": {
   "display_name": "Python 3",
   "language": "python",
   "name": "python3"
  },
  "language_info": {
   "codemirror_mode": {
    "name": "ipython",
    "version": 3
   },
   "file_extension": ".py",
   "mimetype": "text/x-python",
   "name": "python",
   "nbconvert_exporter": "python",
   "pygments_lexer": "ipython3",
   "version": "3.4.3"
  }
 },
 "nbformat": 4,
 "nbformat_minor": 0
}

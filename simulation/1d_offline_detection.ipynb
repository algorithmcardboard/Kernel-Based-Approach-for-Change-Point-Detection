{
 "cells": [
  {
   "cell_type": "code",
   "execution_count": 2,
   "metadata": {
    "collapsed": true
   },
   "outputs": [],
   "source": [
    "%matplotlib inline\n",
    "\n",
    "import numpy as np\n",
    "import matplotlib.pyplot as plt\n",
    "import math"
   ]
  },
  {
   "cell_type": "code",
   "execution_count": 75,
   "metadata": {
    "collapsed": true
   },
   "outputs": [],
   "source": [
    "n = 1\n",
    "num_samples = 6\n",
    "MU_0 = 0\n",
    "MU_1 = 1\n",
    "SIGMA = 1"
   ]
  },
  {
   "cell_type": "code",
   "execution_count": 76,
   "metadata": {
    "collapsed": true
   },
   "outputs": [],
   "source": [
    "def generate_time_series(MU_0, MU_1, SIGMA, N, NUM_SAMPLES):\n",
    "    NUM_SAMPLES = int(NUM_SAMPLES / 2)\n",
    "    TS = np.concatenate(( np.random.normal(MU_0,SIGMA,(1, NUM_SAMPLES * N)), \n",
    "                     np.random.normal(MU_1,SIGMA,(1, NUM_SAMPLES * N))),axis=1 )\n",
    "    return TS[0]"
   ]
  },
  {
   "cell_type": "code",
   "execution_count": 77,
   "metadata": {
    "collapsed": false
   },
   "outputs": [],
   "source": [
    "TS = generate_time_series(0, 1, 1, n, num_samples)"
   ]
  },
  {
   "cell_type": "code",
   "execution_count": 80,
   "metadata": {
    "collapsed": false
   },
   "outputs": [],
   "source": [
    "x_bar = (1/(num_samples * 2)) * np.sum(TS)\n",
    "\n",
    "x_bar_k = []\n",
    "x_bar_n_minus_k = []\n",
    "\n",
    "for k in range(0, TS.shape[0]-1):\n",
    "    x_bar_k.append(np.sum(TS[:k+1])/(k+1))\n",
    "    x_bar_n_minus_k.append(np.sum(TS[k+1:])/(num_samples - (k+1)))\n",
    "    \n",
    "x_bar_k = np.array(x_bar_k)\n",
    "x_bar_n_minus_k = np.array(x_bar_n_minus_k)"
   ]
  },
  {
   "cell_type": "code",
   "execution_count": 81,
   "metadata": {
    "collapsed": false
   },
   "outputs": [
    {
     "name": "stdout",
     "output_type": "stream",
     "text": [
      "[ 2.02453933 -1.55305149  1.39890214  0.40382461  2.0217927   0.84617751]\n",
      "[ 2.02453933  0.23574392  0.62346333  0.56855365  0.85920146]\n",
      "[ 0.62352909  1.16767424  1.09059827  1.4339851   0.84617751]\n"
     ]
    }
   ],
   "source": [
    "print(TS)\n",
    "print(x_bar_k)\n",
    "print(x_bar_n_minus_k)"
   ]
  },
  {
   "cell_type": "markdown",
   "metadata": {},
   "source": [
    "### Calculate sk.  (confusing)"
   ]
  },
  {
   "cell_type": "code",
   "execution_count": 83,
   "metadata": {
    "collapsed": true
   },
   "outputs": [],
   "source": [
    "sk = []\n",
    "for k in range(0, x_bar_k.shape[0]):\n",
    "    left = np.sum(np.power((TS[:k+1] - x_bar_k[k]), 2))\n",
    "    right = np.sum(np.power((TS[k+1:] - x_bar_k[k]), 2))\n",
    "    sk.append(left + right)\n",
    "    \n",
    "sk = np.array(sk)"
   ]
  },
  {
   "cell_type": "code",
   "execution_count": 84,
   "metadata": {
    "collapsed": false
   },
   "outputs": [
    {
     "data": {
      "text/plain": [
       "array([ 17.2058383 ,  11.34336558,   9.35470386,   9.52669568,   9.02740954])"
      ]
     },
     "execution_count": 84,
     "metadata": {},
     "output_type": "execute_result"
    }
   ],
   "source": [
    "sk"
   ]
  },
  {
   "cell_type": "code",
   "execution_count": null,
   "metadata": {
    "collapsed": true
   },
   "outputs": [],
   "source": []
  }
 ],
 "metadata": {
  "kernelspec": {
   "display_name": "Python 3",
   "language": "python",
   "name": "python3"
  },
  "language_info": {
   "codemirror_mode": {
    "name": "ipython",
    "version": 3
   },
   "file_extension": ".py",
   "mimetype": "text/x-python",
   "name": "python",
   "nbconvert_exporter": "python",
   "pygments_lexer": "ipython3",
   "version": "3.4.3"
  }
 },
 "nbformat": 4,
 "nbformat_minor": 0
}

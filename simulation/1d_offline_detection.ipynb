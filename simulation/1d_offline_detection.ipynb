{
 "cells": [
  {
   "cell_type": "code",
   "execution_count": 2,
   "metadata": {
    "collapsed": true
   },
   "outputs": [],
   "source": [
    "%matplotlib inline\n",
    "\n",
    "import numpy as np\n",
    "import matplotlib.pyplot as plt\n",
    "import math"
   ]
  },
  {
   "cell_type": "code",
   "execution_count": 3,
   "metadata": {
    "collapsed": true
   },
   "outputs": [],
   "source": [
    "n = 1\n",
    "num_samples = 6\n",
    "MU_0 = 0\n",
    "MU_1 = 1\n",
    "SIGMA = 1"
   ]
  },
  {
   "cell_type": "code",
   "execution_count": 4,
   "metadata": {
    "collapsed": true
   },
   "outputs": [],
   "source": [
    "def generate_time_series(MU_0, MU_1, SIGMA, N, NUM_SAMPLES):\n",
    "    NUM_SAMPLES = int(NUM_SAMPLES / 2)\n",
    "    TS = np.concatenate(( np.random.normal(MU_0,SIGMA,(1, NUM_SAMPLES * N)), \n",
    "                     np.random.normal(MU_1,SIGMA,(1, NUM_SAMPLES * N))),axis=1 )\n",
    "    return TS[0]"
   ]
  },
  {
   "cell_type": "code",
   "execution_count": 5,
   "metadata": {
    "collapsed": false
   },
   "outputs": [],
   "source": [
    "TS = generate_time_series(0, 1, 1, n, num_samples)"
   ]
  },
  {
   "cell_type": "code",
   "execution_count": 6,
   "metadata": {
    "collapsed": false
   },
   "outputs": [],
   "source": [
    "x_bar = (1/(num_samples * 2)) * np.sum(TS)\n",
    "\n",
    "x_bar_k = []\n",
    "x_bar_n_minus_k = []\n",
    "\n",
    "for k in range(0, TS.shape[0]-1):\n",
    "    x_bar_k.append(np.sum(TS[:k+1])/(k+1))\n",
    "    x_bar_n_minus_k.append(np.sum(TS[k+1:])/(num_samples - (k+1)))\n",
    "    \n",
    "x_bar_k = np.array(x_bar_k)\n",
    "x_bar_n_minus_k = np.array(x_bar_n_minus_k)"
   ]
  },
  {
   "cell_type": "code",
   "execution_count": 7,
   "metadata": {
    "collapsed": false
   },
   "outputs": [
    {
     "name": "stdout",
     "output_type": "stream",
     "text": [
      "[ 0.69189698  0.81280724  1.00591417  0.32288438 -0.05940627  0.47197408]\n",
      "[ 0.69189698  0.75235211  0.8368728   0.70837569  0.5548193 ]\n",
      "[ 0.51083472  0.43534159  0.24515073  0.2062839   0.47197408]\n"
     ]
    }
   ],
   "source": [
    "print(TS)\n",
    "print(x_bar_k)\n",
    "print(x_bar_n_minus_k)"
   ]
  },
  {
   "cell_type": "markdown",
   "metadata": {},
   "source": [
    "### Calculate sk.  (confusing)"
   ]
  },
  {
   "cell_type": "code",
   "execution_count": 8,
   "metadata": {
    "collapsed": true
   },
   "outputs": [],
   "source": [
    "sk = []\n",
    "for k in range(0, x_bar_k.shape[0]):\n",
    "    left = np.sum(np.power((TS[:k+1] - x_bar_k[k]), 2))\n",
    "    right = np.sum(np.power((TS[k+1:] - x_bar_k[k]), 2))\n",
    "    sk.append(left + right)\n",
    "    \n",
    "sk = np.array(sk)"
   ]
  },
  {
   "cell_type": "code",
   "execution_count": 9,
   "metadata": {
    "collapsed": false
   },
   "outputs": [
    {
     "data": {
      "text/plain": [
       "array([ 0.86221904,  0.99360941,  1.25082346,  0.89368506,  0.72676484])"
      ]
     },
     "execution_count": 9,
     "metadata": {},
     "output_type": "execute_result"
    }
   ],
   "source": [
    "sk"
   ]
  },
  {
   "cell_type": "code",
   "execution_count": 11,
   "metadata": {
    "collapsed": false
   },
   "outputs": [],
   "source": [
    "vk = []\n",
    "\n",
    "for k in range(0, x_bar_k.shape[0]):\n",
    "    left  = k*(x_bar_k[k] - x_bar)**2\n",
    "    right = (num_samples - k) * ((x_bar_n_minus_k[k] - x_bar)**2)\n",
    "    vk.append(left + right)\n",
    "    \n",
    "vk = np.array(vk)"
   ]
  },
  {
   "cell_type": "code",
   "execution_count": 13,
   "metadata": {
    "collapsed": false
   },
   "outputs": [
    {
     "data": {
      "text/plain": [
       "2"
      ]
     },
     "execution_count": 13,
     "metadata": {},
     "output_type": "execute_result"
    }
   ],
   "source": [
    "np.argmax(vk)"
   ]
  },
  {
   "cell_type": "code",
   "execution_count": 14,
   "metadata": {
    "collapsed": false
   },
   "outputs": [
    {
     "data": {
      "text/plain": [
       "0.6441144999980527"
      ]
     },
     "execution_count": 14,
     "metadata": {},
     "output_type": "execute_result"
    }
   ],
   "source": [
    "vk[2]"
   ]
  },
  {
   "cell_type": "code",
   "execution_count": 15,
   "metadata": {
    "collapsed": false
   },
   "outputs": [
    {
     "data": {
      "text/plain": [
       "array([ 0.3465477 ,  0.36802984,  0.6441145 ,  0.5875633 ,  0.40451535])"
      ]
     },
     "execution_count": 15,
     "metadata": {},
     "output_type": "execute_result"
    }
   ],
   "source": [
    "vk"
   ]
  },
  {
   "cell_type": "code",
   "execution_count": null,
   "metadata": {
    "collapsed": true
   },
   "outputs": [],
   "source": []
  }
 ],
 "metadata": {
  "kernelspec": {
   "display_name": "Python 3",
   "language": "python",
   "name": "python3"
  },
  "language_info": {
   "codemirror_mode": {
    "name": "ipython",
    "version": 3
   },
   "file_extension": ".py",
   "mimetype": "text/x-python",
   "name": "python",
   "nbconvert_exporter": "python",
   "pygments_lexer": "ipython3",
   "version": "3.4.3"
  }
 },
 "nbformat": 4,
 "nbformat_minor": 0
}
